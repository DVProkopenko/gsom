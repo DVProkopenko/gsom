import csv
import datetime
import matplotlib.pyplot as plt

kirov = {}
with open('opendata.stat', 'r', encoding='utf8') as file:
    stat = csv.reader(file)
    for row in stat:
        if (row[0] == 'Средние траты в ресторане' and row[1] == "Кировская область"):
            date = row[2].split('-')
            if (int(date[0]) == 2017):
                kirov[datetime.date(int(date[0]), int(date[1]), int(date[2]))] = int(row[3])
summa = sum(kirov.values()) / 12

rub = summa // 1
kop = (summa - rub) * 100 // 1

print("Средние траты в ресторане в Кировской области за 2017 год равны ", int(rub),
      " рублям ", int(kop), " копейкам.")
	  
plt.title('Средние траты в ресторане в Кировской области за 2017 год')
plt.xlabel('Дата')
plt.ylabel('Рубли')

x = (list(kirov.keys()))
y = (list(kirov.values()))
plt.plot(x, y)
plt.show()
