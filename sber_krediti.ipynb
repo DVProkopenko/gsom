import csv
import matplotlib.pyplot as plt
import matplotlib as mpl

kredit = {}
with open('opendata.stat', 'r', encoding='utf8') as file:
    stat = csv.reader(file)
    for row in stat:
        if (row[0] == 'Количество заявок на потребительские кредиты' and
            row[1] != "Россия" and
            row[2].split('-')[0] == '2015'):
            if (row[1] in kredit):
                kredit[row[1]] += int(row[3])
            else:
                kredit[row[1]] = int(row[3])

print("Больше всего кредитов берут в городе " + (sorted(kredit, key = kredit.get, reverse = True)[0]))
print("Их количество равно ", kredit[(sorted(kredit, key = kredit.get, reverse = True)[0])])

fig = plt.figure()


plt.title('Количество заявок на потребительские кредиты в 2015 году')
plt.xlabel('Регион', fontsize = 4)
plt.ylabel('Количество кредитов')



x = (list(kredit.keys()))
y = (list(kredit.values()))


plt.bar(x, y)
plt.grid = True
fig.autofmt_xdate(rotation = 90)

plt.show()
