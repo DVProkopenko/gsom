words = []
upper, lower, numbers, spaces = (0, 0, 0, 0)

with open('text.txt', 'r', encoding='utf8') as file:
    for row in file:
        for ch in row:
            if (ch.isupper() == 1):
                upper += 1
            if (ch.islower() == 1):
                lower += 1
            if (ch.isnumeric() == 1):
                numbers += 1
        spaces += len(row.split(' ')) - 1
        words.append(len(row.split(' ')))

print("Среднее количество слов в расчете на предложение: ", sum(words)/len(words))
print('Количество букв в файле в верхнем регистре: ', upper)
print('Количество букв в файле в нижнем регистре: ', lower)
print('Количество цифр в файле: ', numbers)
print('Количество пробельных символов в файле: ', spaces)




