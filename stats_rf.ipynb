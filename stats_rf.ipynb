import csv
import matplotlib.pyplot as plt
from pprint import pprint

d = {}
with open('braki.stat', 'r', encoding='utf8') as file:
    stat = csv.reader(file)
    for row in stat:
        if(row[0] == 'Годы'):
            continue
        d[int(row[0])] = [int(row[1]), float(row[2].replace(',', '.'))]

print('Количество браков: min = ', sorted(d, key=d.get)[0], ' max = ', sorted(d, key=d.get)[-1])

s = {}
with open('razvodi.stat', 'r', encoding='utf8') as file:
    stat = csv.reader(file)
    for row in stat:
        if(row[0] == 'Годы'):
            continue
        s[int(row[0])] = [int(row[1]), float(row[2].replace(',', '.'))]

print('Количество разводов: min = ', sorted(s, key=s.get)[0], ' max = ', sorted(s, key=s.get)[-1])

x = list(d.keys())
y1 = [i[0] for i in list(d.values())]
y2 = [i[0] for i in list(s.values())]

plt.plot(x, y1)
plt.plot(x, y2)

plt.show()
