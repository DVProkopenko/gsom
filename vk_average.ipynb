import csv

vk = {}
data ={}
with open('vk_group_reach.stat', 'r', encoding='utf8') as file:
    stat = csv.reader(file)
    for row in stat:
        if (row[0] == 'Дата'):
            continue
        vk[row[2]] = int(row[4])
        data[row[2]] = row[0]


print('Наибольший охват: ', end = "\n\n")
for i in sorted(vk, key = vk.get, reverse = True)[:3]:
    print(i, "\n" + "Охват = ", vk[i])
    print("Дата: " + data[i], "\n")

period = {}
for i in range(1,13): period[i] = 0
for i in data:
    period[int(data[i].split(' ')[0].split('-')[1])] += 1

print('\n' + "В среднем в месяц публикуется записей: " + str(sum(period.values())/(12 + 2 - 5))) #количество месяцев = 9